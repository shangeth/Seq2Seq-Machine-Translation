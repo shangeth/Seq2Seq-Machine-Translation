{
  "nbformat": 4,
  "nbformat_minor": 0,
  "metadata": {
    "colab": {
      "name": "seq2seq machine translation DEMO.ipynb",
      "version": "0.3.2",
      "provenance": [],
      "collapsed_sections": []
    },
    "kernelspec": {
      "name": "python3",
      "display_name": "Python 3"
    },
    "accelerator": "GPU"
  },
  "cells": [
    {
      "metadata": {
        "id": "UkPlf4S9Feog",
        "colab_type": "text"
      },
      "cell_type": "markdown",
      "source": [
        "# Clone repo"
      ]
    },
    {
      "metadata": {
        "id": "L5d6fOSAFgkl",
        "colab_type": "code",
        "colab": {
          "base_uri": "https://localhost:8080/",
          "height": 136
        },
        "outputId": "89b34a55-08b6-4d00-ea4e-8847005944ef"
      },
      "cell_type": "code",
      "source": [
        "!git clone https://github.com/shangeth/Seq2Seq-Machine-Translation.git"
      ],
      "execution_count": 1,
      "outputs": [
        {
          "output_type": "stream",
          "text": [
            "Cloning into 'Seq2Seq-Machine-Translation'...\n",
            "remote: Enumerating objects: 101, done.\u001b[K\n",
            "remote: Counting objects: 100% (101/101), done.\u001b[K\n",
            "remote: Compressing objects: 100% (75/75), done.\u001b[K\n",
            "remote: Total 101 (delta 51), reused 63 (delta 21), pack-reused 0\u001b[K\n",
            "Receiving objects: 100% (101/101), 56.26 MiB | 29.48 MiB/s, done.\n",
            "Resolving deltas: 100% (51/51), done.\n"
          ],
          "name": "stdout"
        }
      ]
    },
    {
      "metadata": {
        "id": "l5mAR8TqFjhR",
        "colab_type": "text"
      },
      "cell_type": "markdown",
      "source": [
        "# Change Directory"
      ]
    },
    {
      "metadata": {
        "id": "riKaZG9RFicj",
        "colab_type": "code",
        "colab": {}
      },
      "cell_type": "code",
      "source": [
        "import os\n",
        "os.chdir('/content/Seq2Seq-Machine-Translation')\n"
      ],
      "execution_count": 0,
      "outputs": []
    },
    {
      "metadata": {
        "id": "vbSeyS1uFtMn",
        "colab_type": "text"
      },
      "cell_type": "markdown",
      "source": [
        "# Train the model"
      ]
    },
    {
      "metadata": {
        "id": "R-oDmq-ZFo9n",
        "colab_type": "code",
        "colab": {
          "base_uri": "https://localhost:8080/",
          "height": 170
        },
        "outputId": "c80d1982-92ee-439a-db6e-b4364c363236"
      },
      "cell_type": "code",
      "source": [
        "!python train.py --epoch=15000 --lr=0.001"
      ],
      "execution_count": 4,
      "outputs": [
        {
          "output_type": "stream",
          "text": [
            "135842 translation pairs found in dataset.\n",
            "Reduced dataset to 135690 translation pairs.\n",
            "No of words in each language:\n",
            "eng 12996\n",
            "fra 21267\n",
            "Starting Training Loop...\n",
            "3m 42s (- 7m 24s) (5000 33%) 5.0802\n",
            "7m 38s (- 3m 49s) (10000 66%) 4.9499\n",
            "11m 45s (- 0m 0s) (15000 100%) 4.9172\n"
          ],
          "name": "stdout"
        }
      ]
    },
    {
      "metadata": {
        "id": "7eP2DwWKF8bE",
        "colab_type": "text"
      },
      "cell_type": "markdown",
      "source": [
        "# Translate using trained model"
      ]
    },
    {
      "metadata": {
        "id": "QO2AJV-sFyGv",
        "colab_type": "code",
        "colab": {
          "base_uri": "https://localhost:8080/",
          "height": 136
        },
        "outputId": "d43e9b87-24e5-4ab4-b606-a9717e52ec87"
      },
      "cell_type": "code",
      "source": [
        "!python translate.py --translate_sentence='I am hungry!'"
      ],
      "execution_count": 5,
      "outputs": [
        {
          "output_type": "stream",
          "text": [
            "135842 translation pairs found in dataset.\n",
            "Reduced dataset to 135690 translation pairs.\n",
            "No of words in each language:\n",
            "eng 12996\n",
            "fra 21267\n",
            "input = i am hungry !\n",
            "output = je ne a la . <EOS>\n"
          ],
          "name": "stdout"
        }
      ]
    },
    {
      "metadata": {
        "id": "8hplZLULIpbl",
        "colab_type": "code",
        "colab": {
          "base_uri": "https://localhost:8080/",
          "height": 136
        },
        "outputId": "38d060d6-b37e-4e03-8432-50567d98041f"
      },
      "cell_type": "code",
      "source": [
        "!python translate.py --translate_sentence='This is my sister!'"
      ],
      "execution_count": 6,
      "outputs": [
        {
          "output_type": "stream",
          "text": [
            "135842 translation pairs found in dataset.\n",
            "Reduced dataset to 135690 translation pairs.\n",
            "No of words in each language:\n",
            "eng 12996\n",
            "fra 21267\n",
            "input = this is my sister !\n",
            "output = je ne que vous vous pas <EOS>\n"
          ],
          "name": "stdout"
        }
      ]
    },
    {
      "metadata": {
        "id": "VUaODl9aIdiK",
        "colab_type": "text"
      },
      "cell_type": "markdown",
      "source": [
        "# Things to add\n",
        "\n",
        "- Validation can be easily added\n",
        "- More training\n",
        "- much bigger dataset\n",
        "- Flask server for translating"
      ]
    }
  ]
}